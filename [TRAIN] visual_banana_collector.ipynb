{
 "cells": [
  {
   "cell_type": "code",
   "execution_count": null,
   "metadata": {},
   "outputs": [],
   "source": [
    "import torch\n",
    "import numpy as np\n",
    "import matplotlib.pyplot as plt\n",
    "from collections import deque\n",
    "from unityagents import UnityEnvironment\n",
    "\n",
    "from dqn_agent import DQN_AGENT\n",
    "\n",
    "%matplotlib inline\n",
    "from IPython import display\n",
    "import time"
   ]
  },
  {
   "cell_type": "code",
   "execution_count": null,
   "metadata": {},
   "outputs": [],
   "source": [
    "env = UnityEnvironment(file_name=\"VisualBanana_Linux/Banana.x86_64\")"
   ]
  },
  {
   "cell_type": "code",
   "execution_count": null,
   "metadata": {},
   "outputs": [],
   "source": [
    "brain_name = env.brain_names[0]\n",
    "brain = env.brains[brain_name]"
   ]
  },
  {
   "cell_type": "code",
   "execution_count": null,
   "metadata": {},
   "outputs": [],
   "source": [
    "def save_agent(agent, episode_count):\n",
    "    checkpoint = {\n",
    "        \"action_size\" : agent.action_size,\n",
    "        \"state_size\"  : agent.state_size,\n",
    "        \"seed\"        : agent.seed,\n",
    "        \"time_steps\"  : agent.time_steps,\n",
    "        \"state_dict\"  : agent.learning_network.state_dict(),\n",
    "        \"episodes\"    : episode_count\n",
    "    }\n",
    "    filename = f\"agent_{episode_count}.pth\"\n",
    "    torch.save(checkpoint, filename)\n",
    "    return filename"
   ]
  },
  {
   "cell_type": "code",
   "execution_count": null,
   "metadata": {},
   "outputs": [],
   "source": [
    "def plot_scores(scores, mean_scores, save_fig=False, filename=None):\n",
    "    plt.plot(scores, label=\"Score\")\n",
    "    plt.plot(mean_scores, label=\"Rolling Mean\")\n",
    "    plt.xlabel(\"Episode\")\n",
    "    plt.ylabel(\"Score\")\n",
    "    plt.legend()\n",
    "    if save_fig:\n",
    "        plt.savefig(filename+'.png')\n",
    "    plt.show()"
   ]
  },
  {
   "cell_type": "code",
   "execution_count": null,
   "metadata": {},
   "outputs": [],
   "source": [
    "def initialize_experiences(agent, env, action_size, brain_name, size=50000):\n",
    "    e_count = 0\n",
    "    env_info = env.reset(train_mode=True)[brain_name]\n",
    "    state = env_info.visual_observations[0]\n",
    "    \n",
    "    while e_count < size:\n",
    "        action = np.random.choice(np.arange(action_size))\n",
    "        env_info = env.step(action)[brain_name]\n",
    "        next_state = env_info.visual_observations[0]\n",
    "        reward = env_info.rewards[0]\n",
    "        done = env_info.local_done[0]\n",
    "        agent.step(state, action, reward, next_state, done, train=False)\n",
    "        state = next_state\n",
    "        e_count += 1\n",
    "        \n",
    "        if done:\n",
    "            env_info = env.reset(train_mode=True)[brain_name]\n",
    "            state = env_info.visual_observations[0]            "
   ]
  },
  {
   "cell_type": "code",
   "execution_count": null,
   "metadata": {},
   "outputs": [],
   "source": [
    "env_info = env.reset(train_mode=True)[brain_name]\n",
    "state = env_info.visual_observations[0]\n",
    "score = 0\n",
    "scores = list()\n",
    "mean_scores_window = list()\n",
    "scores_window = deque(maxlen=100)\n",
    "\n",
    "env_state_size = state.shape[-1]\n",
    "env_action_size = brain.vector_action_space_size\n",
    "\n",
    "agent = DQN_AGENT(env_state_size, env_action_size, 42)\n",
    "eps_start = 1.0\n",
    "eps_decay = 0.995\n",
    "eps_fixed = 0.01\n",
    "eps = eps_start\n",
    "\n",
    "start_time = time.time()\n",
    "print(\"Initializing Replay Memory [50,000 Experiences]...\")\n",
    "# initialize_experiences(agent, env, env_action_size, brain_name)\n",
    "print(\"Finished Initializing Replay Memory ...\\tTime : {:.1f} secs\".format(time.time() - start_time))\n",
    "\n",
    "start_time = time.time()\n",
    "\n",
    "for i in range(1, 1000):\n",
    "    env_info = env.reset(train_mode=True)[brain_name]\n",
    "    state = env_info.visual_observations[0]\n",
    "    state = state.transpose(0, 3, 1, 2)\n",
    "    score = 0\n",
    "    \n",
    "    while True:\n",
    "        action = agent.act(state, eps)\n",
    "        env_info = env.step(action)[brain_name]\n",
    "        next_state = env_info.visual_observations[0]\n",
    "        next_state = next_state.transpose(0, 3, 1, 2)\n",
    "        reward = env_info.rewards[0]\n",
    "        done = env_info.local_done[0]\n",
    "        agent.step(state, action, reward, next_state, done)\n",
    "        score += reward\n",
    "        state = next_state\n",
    "\n",
    "        if done:\n",
    "            scores.append(score)\n",
    "            scores_window.append(score)\n",
    "            mean_scores_window.append(np.mean(scores_window))\n",
    "            break\n",
    "        \n",
    "    eps = max(eps_fixed, eps*eps_decay)\n",
    "    \n",
    "    if i % 10 == 0:\n",
    "        display.clear_output(wait=True)\n",
    "        print(\"EPISODE {} -->\\tScore : {}\\tRolling Avg : {:.2f}\\tMax : {:.2f}\\tTime : {:.1f} secs\\t eps : {:.2f}\".format(i, score, np.mean(scores_window), np.max(scores), time.time()-start_time, eps))\n",
    "        plot_scores(scores, mean_scores_window)\n",
    "        start_time = time.time()\n",
    "        \n",
    "    if np.mean(scores_window) > 13.5:\n",
    "        display.clear_output(wait=True)\n",
    "        print(f\"Hooray... Environment Solved in {i} episodes!! Avg. Score : {np.mean(scores_window)}\")\n",
    "        checkpoint = save_agent(agent, i)\n",
    "        print(f\"Checkpoint : {checkpoint}\")\n",
    "        plot_scores(scores, mean_scores_window, save_fig=True, filename=checkpoint.split('.')[0])\n",
    "        break\n",
    "        "
   ]
  }
 ],
 "metadata": {
  "kernelspec": {
   "display_name": "Python 3",
   "language": "python",
   "name": "python3"
  },
  "language_info": {
   "codemirror_mode": {
    "name": "ipython",
    "version": 3
   },
   "file_extension": ".py",
   "mimetype": "text/x-python",
   "name": "python",
   "nbconvert_exporter": "python",
   "pygments_lexer": "ipython3",
   "version": "3.6.8"
  }
 },
 "nbformat": 4,
 "nbformat_minor": 2
}
